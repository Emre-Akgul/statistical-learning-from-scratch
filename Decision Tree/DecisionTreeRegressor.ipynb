{
 "cells": [
  {
   "cell_type": "markdown",
   "metadata": {},
   "source": [
    "# Decision Tree Regressor"
   ]
  },
  {
   "cell_type": "markdown",
   "metadata": {},
   "source": [
    "## 1- Creating Decision Tree Regressor Class Structure"
   ]
  },
  {
   "cell_type": "code",
   "execution_count": null,
   "metadata": {},
   "outputs": [],
   "source": [
    "import numpy as np\n",
    "\n",
    "class DecisionTreeRegressor():\n",
    "    def __init__(self, min_samples_split=20):\n",
    "        \"\"\"\n",
    "        Initialize the Decision Tree Regressor model.\n",
    "\n",
    "        Parameters:\n",
    "        - min_samples_split: Minimum number of samples required to split an internal node.\n",
    "        \"\"\"\n",
    "        self.min_samples_split = min_samples_split\n",
    "    \n",
    "    def fit(self, X, y):\n",
    "        \"\"\"\n",
    "        Fit the decision tree regressor model on the training data.\n",
    "\n",
    "        Parameters:\n",
    "        - X: Input value array for training data. Should be numpy array with shape (n_samples, n_features).\n",
    "        - y: Target value array for training data. Should be numpy array with shape (n_samples, ).\n",
    "        \"\"\"\n",
    "\n",
    "    def predict(self, X):\n",
    "        \"\"\"\n",
    "        Predict the target values for given inputs.\n",
    "\n",
    "        Parameters:\n",
    "        - X: Input value array for prediction. Should be numpy array with shape (n_samples, n_features).\n",
    "\n",
    "        Returns:\n",
    "        - y: Predictions values for input array X. numpy array with shape (n_samples, )\n",
    "        \"\"\""
   ]
  }
 ],
 "metadata": {
  "kernelspec": {
   "display_name": "Python 3",
   "language": "python",
   "name": "python3"
  },
  "language_info": {
   "name": "python",
   "version": "3.10.12"
  }
 },
 "nbformat": 4,
 "nbformat_minor": 2
}
