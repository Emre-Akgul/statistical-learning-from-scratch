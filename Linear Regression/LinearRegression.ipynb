{
 "cells": [
  {
   "cell_type": "markdown",
   "metadata": {},
   "source": [
    "# Linear Regression"
   ]
  },
  {
   "cell_type": "markdown",
   "metadata": {},
   "source": [
    "## 1- Creating Linear Regression Class"
   ]
  },
  {
   "cell_type": "code",
   "execution_count": 1,
   "metadata": {},
   "outputs": [],
   "source": [
    "import numpy as np\n",
    "\n",
    "class LinearRegression():\n",
    "    def __init__(self, fit_method='ols', learning_rate=0.01, epochs=1000, min_step_size=0.001):\n",
    "        \"\"\"\n",
    "        Initialize the LinearRegression model with a specified fitting method.\n",
    "\n",
    "        Parameters:\n",
    "        - fit_method: The fitting method to use: 'ols' for Ordinary Least Squares, 'gd' for Gradient Descent.\n",
    "        - learning_rate: Learning rate for Gradient Descent.\n",
    "        - epochs: Number of epochs for Gradient Descent.\n",
    "        - min_step_size: Minimum step size for Gradient Descent.\n",
    "        \"\"\"\n",
    "        self.fit_method = fit_method\n",
    "        self.learning_rate = learning_rate\n",
    "        self.epochs = epochs\n",
    "        self.min_step_size = min_step_size\n",
    "\n",
    "        self.weights = None # W0 is bias.\n",
    "\n",
    "    def fit_ols(self, X, y):\n",
    "        pass\n",
    "\n",
    "    def fit_gd(self, X, y):\n",
    "        pass\n",
    "\n",
    "    def fit(self, X, y):\n",
    "        \"\"\"\n",
    "        Fit the model to the data based on selected fit method.\n",
    "\n",
    "        Parameters:\n",
    "        - X: Input value array for training data. Should be numpy array with shape (n_samples, n_features).\n",
    "        - y: Target value array for training data. Should be numpy array with shape (n_samples, ).\n",
    "        \"\"\"\n",
    "\n",
    "        # Add bias terms coefficent to the X for easier bias term handling.\n",
    "        X = np.c_[np.ones((X.shape[0], 1)), X]\n",
    "\n",
    "        if self.fit_method == 'ols':\n",
    "            self.fit_ols(X, y)\n",
    "        elif self.fit_method == 'gd':\n",
    "            self.fit_gd(X, y)\n",
    "        else:\n",
    "            raise ValueError(\"fit_method should be either 'ols' or 'gd'\")\n",
    "\n",
    "\n",
    "    def predict(self, X):\n",
    "        \"\"\"\n",
    "        Predict the target values for given inputs.\n",
    "\n",
    "        Parameters:\n",
    "        - X: Input value array for prediction. Should be numpy array with shape (n_samples, n_features).\n",
    "\n",
    "        Returns:\n",
    "        - y: Predictions values for input array X. numpy array with shape (n_samples, )\n",
    "        \"\"\"\n",
    "\n",
    "        if self.weights is None:\n",
    "            raise ValueError(\"Model has not been fitted yet.\")\n",
    "        \n",
    "        # Add bias terms coefficent to the X for prediction.\n",
    "        X = np.c_[np.ones((X.shape[0], 1)), X]\n",
    "\n",
    "        y = X @ self.weights\n",
    "        return y"
   ]
  },
  {
   "cell_type": "markdown",
   "metadata": {},
   "source": [
    "### A- Ordinary Least Squares"
   ]
  },
  {
   "cell_type": "markdown",
   "metadata": {},
   "source": [
    "This part is taken from Ian Goodfellow, Yoshua Bengio, Aaron Courville - Deep Learning-The MIT Press (2016).\\\n",
    "Given the gradient of the training Mean Squared Error (MSE):\n",
    "\n",
    "$$\n",
    "\\nabla_w \\text{MSE}_{\\text{train}} = 0 \\tag{5.6}\n",
    "$$\n",
    "\n",
    "This implies:\n",
    "\n",
    "$$\n",
    "\\nabla_w \\left( \\frac{1}{m} \\| \\hat{y}^{(\\text{train})} - y^{(\\text{train})} \\|^2_2 \\right) = 0 \\tag{5.7}\n",
    "$$\n",
    "\n",
    "Expanding it:\n",
    "\n",
    "$$\n",
    "\\frac{1}{m} \\nabla_w \\| X^{(\\text{train})} w - y^{(\\text{train})} \\|^2_2 = 0 \\tag{5.8}\n",
    "$$\n",
    "\n",
    "Taking the gradient with respect to \\( w \\):\n",
    "\n",
    "$$\n",
    "\\nabla_w \\left( X^{(\\text{train})} w - y^{(\\text{train})} \\right)^{\\top} \\left( X^{(\\text{train})} w - y^{(\\text{train})} \\right) = 0 \\tag{5.9}\n",
    "$$\n",
    "\n",
    "This simplifies to:\n",
    "\n",
    "$$\n",
    "\\nabla_w \\left( w^{\\top} X^{(\\text{train})^{\\top}} X^{(\\text{train})} w - 2 w^{\\top} X^{(\\text{train})^{\\top}} y^{(\\text{train})} + y^{(\\text{train})^{\\top}} y^{(\\text{train})} \\right) = 0 \\tag{5.10}\n",
    "$$\n",
    "\n",
    "Setting the gradient to zero:\n",
    "\n",
    "$$\n",
    "2 X^{(\\text{train})^{\\top}} X^{(\\text{train})} w - 2 X^{(\\text{train})^{\\top}} y^{(\\text{train})} = 0 \\tag{5.11}\n",
    "$$\n",
    "\n",
    "Solving for \\( w \\):\n",
    "\n",
    "$$\n",
    "w = \\left( X^{(\\text{train})^{\\top}} X^{(\\text{train})} \\right)^{-1} X^{(\\text{train})^{\\top}} y^{(\\text{train})} \\tag{5.12}\n",
    "$$\n"
   ]
  },
  {
   "cell_type": "code",
   "execution_count": 2,
   "metadata": {},
   "outputs": [],
   "source": [
    "def fit_ols(self, X, y):\n",
    "    \"\"\"\n",
    "    Fit the model to the data using ordinary least squares fit method by calculating weights by given formula.\n",
    "\n",
    "    Parameters:\n",
    "    - X: Input value array for training data. Should be numpy array with shape (n_samples, n_features).\n",
    "    - y: Target value array for training data. Should be numpy array with shape (n_samples, ).\n",
    "    \"\"\"\n",
    "\n",
    "    self.weights = np.linalg.inv(X.T @ X) @ X.T @ y\n",
    "\n",
    "# Assign it to the class method\n",
    "LinearRegression.fit_ols = fit_ols"
   ]
  },
  {
   "cell_type": "markdown",
   "metadata": {},
   "source": [
    "### B- Gradient Descent"
   ]
  }
 ],
 "metadata": {
  "kernelspec": {
   "display_name": "Python 3",
   "language": "python",
   "name": "python3"
  },
  "language_info": {
   "codemirror_mode": {
    "name": "ipython",
    "version": 3
   },
   "file_extension": ".py",
   "mimetype": "text/x-python",
   "name": "python",
   "nbconvert_exporter": "python",
   "pygments_lexer": "ipython3",
   "version": "3.10.12"
  }
 },
 "nbformat": 4,
 "nbformat_minor": 2
}
